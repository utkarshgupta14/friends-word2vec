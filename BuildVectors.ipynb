{
  "cells": [
    {
      "cell_type": "code",
      "execution_count": 1,
      "metadata": {
        "colab": {
          "base_uri": "https://localhost:8080/"
        },
        "id": "VEp3jF1fUFmU",
        "outputId": "b29a61c6-a6e3-4629-c0e7-a16a90e1e981"
      },
      "outputs": [
        {
          "name": "stdout",
          "output_type": "stream",
          "text": [
            "                                                Text  Speaker  \\\n",
            "0  Originally written by Marta Kauffman and David...      NaN   \n",
            "1                          Transcribed by guineapig.      NaN   \n",
            "2   CENTRAL PERK. (ALL PRESENT EXCEPT RACHEL AND ...  SCENE 1   \n",
            "3   There's nothing to tell! He's just some guy I...   MONICA   \n",
            "4   C'mon, you're going out with the guy! There's...     JOEY   \n",
            "\n",
            "                                             Episode     Season     Show  \n",
            "0  Episode-01-The One Where Monica Gets a New Roo...  Season-01  Friends  \n",
            "1  Episode-01-The One Where Monica Gets a New Roo...  Season-01  Friends  \n",
            "2  Episode-01-The One Where Monica Gets a New Roo...  Season-01  Friends  \n",
            "3  Episode-01-The One Where Monica Gets a New Roo...  Season-01  Friends  \n",
            "4  Episode-01-The One Where Monica Gets a New Roo...  Season-01  Friends  \n"
          ]
        },
        {
          "data": {
            "text/plain": [
              "69974"
            ]
          },
          "execution_count": 1,
          "metadata": {},
          "output_type": "execute_result"
        }
      ],
      "source": [
        "import pandas as pd\n",
        "from nltk import sent_tokenize\n",
        "from gensim.utils import simple_preprocess\n",
        "\n",
        "script = []\n",
        "df = pd.read_csv('FriendsScript.csv')\n",
        "print(df.head())\n",
        "n = df.shape[0]\n",
        "n"
      ]
    },
    {
      "cell_type": "code",
      "execution_count": 2,
      "metadata": {
        "colab": {
          "base_uri": "https://localhost:8080/"
        },
        "id": "taLEJO6dXMKI",
        "outputId": "a87542c1-2bd2-4805-e652-b291df1899bc"
      },
      "outputs": [
        {
          "name": "stderr",
          "output_type": "stream",
          "text": [
            "[nltk_data] Downloading package stopwords to\n",
            "[nltk_data]     C:\\Users\\range\\AppData\\Roaming\\nltk_data...\n",
            "[nltk_data]   Package stopwords is already up-to-date!\n"
          ]
        },
        {
          "data": {
            "text/plain": [
              "['i',\n",
              " 'me',\n",
              " 'my',\n",
              " 'myself',\n",
              " 'we',\n",
              " 'our',\n",
              " 'ours',\n",
              " 'ourselves',\n",
              " 'you',\n",
              " \"you're\",\n",
              " \"you've\",\n",
              " \"you'll\",\n",
              " \"you'd\",\n",
              " 'your',\n",
              " 'yours',\n",
              " 'yourself',\n",
              " 'yourselves',\n",
              " 'he',\n",
              " 'him',\n",
              " 'his',\n",
              " 'himself',\n",
              " 'she',\n",
              " \"she's\",\n",
              " 'her',\n",
              " 'hers',\n",
              " 'herself',\n",
              " 'it',\n",
              " \"it's\",\n",
              " 'its',\n",
              " 'itself',\n",
              " 'they',\n",
              " 'them',\n",
              " 'their',\n",
              " 'theirs',\n",
              " 'themselves',\n",
              " 'what',\n",
              " 'which',\n",
              " 'who',\n",
              " 'whom',\n",
              " 'this',\n",
              " 'that',\n",
              " \"that'll\",\n",
              " 'these',\n",
              " 'those',\n",
              " 'am',\n",
              " 'is',\n",
              " 'are',\n",
              " 'was',\n",
              " 'were',\n",
              " 'be',\n",
              " 'been',\n",
              " 'being',\n",
              " 'have',\n",
              " 'has',\n",
              " 'had',\n",
              " 'having',\n",
              " 'do',\n",
              " 'does',\n",
              " 'did',\n",
              " 'doing',\n",
              " 'a',\n",
              " 'an',\n",
              " 'the',\n",
              " 'and',\n",
              " 'but',\n",
              " 'if',\n",
              " 'or',\n",
              " 'because',\n",
              " 'as',\n",
              " 'until',\n",
              " 'while',\n",
              " 'of',\n",
              " 'at',\n",
              " 'by',\n",
              " 'for',\n",
              " 'with',\n",
              " 'about',\n",
              " 'against',\n",
              " 'between',\n",
              " 'into',\n",
              " 'through',\n",
              " 'during',\n",
              " 'before',\n",
              " 'after',\n",
              " 'above',\n",
              " 'below',\n",
              " 'to',\n",
              " 'from',\n",
              " 'up',\n",
              " 'down',\n",
              " 'in',\n",
              " 'out',\n",
              " 'on',\n",
              " 'off',\n",
              " 'over',\n",
              " 'under',\n",
              " 'again',\n",
              " 'further',\n",
              " 'then',\n",
              " 'once',\n",
              " 'here',\n",
              " 'there',\n",
              " 'when',\n",
              " 'where',\n",
              " 'why',\n",
              " 'how',\n",
              " 'all',\n",
              " 'any',\n",
              " 'both',\n",
              " 'each',\n",
              " 'few',\n",
              " 'more',\n",
              " 'most',\n",
              " 'other',\n",
              " 'some',\n",
              " 'such']"
            ]
          },
          "execution_count": 2,
          "metadata": {},
          "output_type": "execute_result"
        }
      ],
      "source": [
        "import nltk\n",
        "from nltk.corpus import stopwords\n",
        "nltk.download('stopwords')\n",
        "stwords = stopwords.words('english') # removing no, not, nor, etc from stopwords\n",
        "stwords = stwords[:116]\n",
        "stwords"
      ]
    },
    {
      "cell_type": "code",
      "execution_count": 3,
      "metadata": {
        "colab": {
          "base_uri": "https://localhost:8080/"
        },
        "id": "ovk_7AtHYg-5",
        "outputId": "06476fa4-6af5-4911-ac2f-427e9bb73ec4"
      },
      "outputs": [
        {
          "name": "stdout",
          "output_type": "stream",
          "text": [
            "Hey I Utkarsh .\n",
            "Who ?\n",
            "Nice meet .\n"
          ]
        },
        {
          "name": "stderr",
          "output_type": "stream",
          "text": [
            "[nltk_data] Downloading package punkt to\n",
            "[nltk_data]     C:\\Users\\range\\AppData\\Roaming\\nltk_data...\n",
            "[nltk_data]   Package punkt is already up-to-date!\n"
          ]
        }
      ],
      "source": [
        "nltk.download('punkt')\n",
        "sents = sent_tokenize('Hey I am Utkarsh. Who are you? Nice to meet you.')\n",
        "for sent in sents:\n",
        "  sent = nltk.word_tokenize(sent)\n",
        "  sent_stopped = [word for word in sent if word not in stwords]\n",
        "  sent = \" \".join(sent_stopped)\n",
        "  print(sent)"
      ]
    },
    {
      "cell_type": "code",
      "execution_count": 4,
      "metadata": {
        "colab": {
          "base_uri": "https://localhost:8080/"
        },
        "id": "j6KyWu7gWdzq",
        "outputId": "8c378eb1-1dc5-4290-dad2-0d882a82f71f"
      },
      "outputs": [
        {
          "data": {
            "text/plain": [
              "[['originally', 'written', 'marta', 'kauffman', 'david', 'crane'],\n",
              " ['transcribed', 'guineapig'],\n",
              " ['central', 'perk'],\n",
              " ['present', 'except', 'rachel', 'ross'],\n",
              " ['nothing', 'tell']]"
            ]
          },
          "execution_count": 4,
          "metadata": {},
          "output_type": "execute_result"
        }
      ],
      "source": [
        "script = []\n",
        "for dia in df['Text']:\n",
        "  sents = sent_tokenize(dia)\n",
        "  for sent in sents:\n",
        "    sent = simple_preprocess(sent)\n",
        "    sent = [word for word in sent if word not in stwords]\n",
        "    script.append(sent)\n",
        "script[:5]"
      ]
    },
    {
      "cell_type": "code",
      "execution_count": 5,
      "metadata": {
        "colab": {
          "base_uri": "https://localhost:8080/"
        },
        "id": "8pVHqXw9aWq5",
        "outputId": "c269eba0-0b00-4dc8-d7a2-b0e15e54b4b0"
      },
      "outputs": [
        {
          "name": "stdout",
          "output_type": "stream",
          "text": [
            "123725\n"
          ]
        }
      ],
      "source": [
        "print(len(script))"
      ]
    },
    {
      "cell_type": "code",
      "execution_count": 6,
      "metadata": {
        "id": "8gu5Zmqka7VE"
      },
      "outputs": [],
      "source": [
        "import gensim\n",
        "model = gensim.models.Word2Vec(\n",
        "    window=5,\n",
        "    min_count=2,\n",
        "    vector_size=300\n",
        ")"
      ]
    },
    {
      "cell_type": "code",
      "execution_count": 7,
      "metadata": {
        "id": "Zyoh1FJBcNzt"
      },
      "outputs": [],
      "source": [
        "model.build_vocab(script)"
      ]
    },
    {
      "cell_type": "code",
      "execution_count": 8,
      "metadata": {
        "colab": {
          "base_uri": "https://localhost:8080/"
        },
        "id": "O2Lpjq8ucbvD",
        "outputId": "7266c2fd-5df5-4ed9-dde0-229b5739c366"
      },
      "outputs": [
        {
          "data": {
            "text/plain": [
              "(8923963, 11039400)"
            ]
          },
          "execution_count": 8,
          "metadata": {},
          "output_type": "execute_result"
        }
      ],
      "source": [
        "model.train(script, total_examples=model.corpus_count, epochs=5*model.epochs)"
      ]
    },
    {
      "cell_type": "code",
      "execution_count": 9,
      "metadata": {
        "colab": {
          "base_uri": "https://localhost:8080/"
        },
        "id": "3MexwgpHc3vL",
        "outputId": "ef3dac42-3de2-40d1-e7ab-f4ea3e0dc6af"
      },
      "outputs": [
        {
          "data": {
            "text/plain": [
              "[('rachel', 0.6738806366920471),\n",
              " ('joey', 0.5503119826316833),\n",
              " ('phoebe', 0.513434886932373),\n",
              " ('monica', 0.49766960740089417),\n",
              " ('kitchen', 0.49222779273986816),\n",
              " ('ross', 0.4916125535964966),\n",
              " ('closely', 0.47151118516921997),\n",
              " ('bedroom', 0.4667557179927826),\n",
              " ('frantically', 0.4641458988189697),\n",
              " ('glare', 0.4634166955947876)]"
            ]
          },
          "execution_count": 9,
          "metadata": {},
          "output_type": "execute_result"
        }
      ],
      "source": [
        "model.wv.most_similar('chandler')"
      ]
    },
    {
      "cell_type": "code",
      "execution_count": 10,
      "metadata": {
        "colab": {
          "base_uri": "https://localhost:8080/"
        },
        "id": "YjA0_JyRc8yc",
        "outputId": "65ae2d63-3b95-4451-cd48-5349c1493486"
      },
      "outputs": [
        {
          "data": {
            "text/plain": [
              "[('monica', 0.604261040687561),\n",
              " ('chandler', 0.5503119230270386),\n",
              " ('ross', 0.5236783623695374),\n",
              " ('couch', 0.5230206847190857),\n",
              " ('eddie', 0.4963330030441284),\n",
              " ('hallway', 0.47723153233528137),\n",
              " ('kitchen', 0.4730217754840851),\n",
              " ('sofa', 0.4691832661628723),\n",
              " ('laptop', 0.46569889783859253),\n",
              " ('bedroom', 0.46178147196769714)]"
            ]
          },
          "execution_count": 10,
          "metadata": {},
          "output_type": "execute_result"
        }
      ],
      "source": [
        "model.wv.most_similar('joey')"
      ]
    },
    {
      "cell_type": "code",
      "execution_count": 11,
      "metadata": {
        "colab": {
          "base_uri": "https://localhost:8080/"
        },
        "id": "LjVE6d84dC3W",
        "outputId": "4ee20500-5109-43bd-e0f9-3e51380f5a0f"
      },
      "outputs": [
        {
          "data": {
            "text/plain": [
              "[('susan', 0.7664747834205627),\n",
              " ('sarandon', 0.5823079347610474),\n",
              " ('chunky', 0.5155829787254333),\n",
              " ('escorted', 0.49789339303970337),\n",
              " ('lesbian', 0.46656519174575806),\n",
              " ('lover', 0.45816943049430847),\n",
              " ('kristin', 0.45441967248916626),\n",
              " ('kyle', 0.4514443874359131),\n",
              " ('interests', 0.4407631754875183),\n",
              " ('kristen', 0.4296128749847412)]"
            ]
          },
          "execution_count": 11,
          "metadata": {},
          "output_type": "execute_result"
        }
      ],
      "source": [
        "model.wv.most_similar('carol')"
      ]
    },
    {
      "cell_type": "code",
      "execution_count": 12,
      "metadata": {
        "colab": {
          "base_uri": "https://localhost:8080/",
          "height": 35
        },
        "id": "kUrnLQ5pdI1s",
        "outputId": "3feb1b88-31d3-4177-8849-eca9c7df2e32"
      },
      "outputs": [
        {
          "data": {
            "text/plain": [
              "'mike'"
            ]
          },
          "execution_count": 12,
          "metadata": {},
          "output_type": "execute_result"
        }
      ],
      "source": [
        "model.wv.doesnt_match(['joey', 'rachel', 'monica', 'phoebe', 'chandler', 'ross', 'mike'])"
      ]
    },
    {
      "cell_type": "code",
      "execution_count": 13,
      "metadata": {
        "colab": {
          "base_uri": "https://localhost:8080/",
          "height": 35
        },
        "id": "z_I7OJwud9nJ",
        "outputId": "14a29f59-25c9-4df4-f416-df58352fb735"
      },
      "outputs": [
        {
          "data": {
            "text/plain": [
              "'carol'"
            ]
          },
          "execution_count": 13,
          "metadata": {},
          "output_type": "execute_result"
        }
      ],
      "source": [
        "model.wv.doesnt_match(['ball', 'table', 'food', 'carol'])"
      ]
    },
    {
      "cell_type": "code",
      "execution_count": 14,
      "metadata": {
        "colab": {
          "base_uri": "https://localhost:8080/",
          "height": 35
        },
        "id": "ucNvTYRfeGRD",
        "outputId": "2894b72b-b0b3-4006-9995-b1c3a82cd7d7"
      },
      "outputs": [
        {
          "data": {
            "text/plain": [
              "'dinosaur'"
            ]
          },
          "execution_count": 14,
          "metadata": {},
          "output_type": "execute_result"
        }
      ],
      "source": [
        "model.wv.doesnt_match(['dinosaur', 'monica', 'ross', 'janice', 'rachel'])"
      ]
    },
    {
      "cell_type": "code",
      "execution_count": 15,
      "metadata": {
        "colab": {
          "base_uri": "https://localhost:8080/"
        },
        "id": "0NIRRdE3eMvQ",
        "outputId": "4dfc6dcc-eea6-4af6-cd75-f312dae106a2"
      },
      "outputs": [
        {
          "data": {
            "text/plain": [
              "array([ 0.01124548,  0.09739658,  0.15641257,  0.13763224,  0.08407437,\n",
              "       -0.14325257,  0.09535107,  0.12645698,  0.28675333, -0.03546182,\n",
              "        0.06885946, -0.09490909, -0.12618425, -0.13276944, -0.19875048,\n",
              "       -0.08135285,  0.02658872, -0.15424837, -0.08229104, -0.01407443,\n",
              "       -0.13094348, -0.06161047,  0.01182278,  0.05421559,  0.24247524,\n",
              "       -0.00037926, -0.08387035,  0.02634952, -0.03138638, -0.06991956,\n",
              "       -0.0846789 , -0.02068732,  0.00390708, -0.01956083,  0.05120895,\n",
              "        0.0307502 ,  0.08742013, -0.17697023, -0.04681254,  0.04221775,\n",
              "       -0.07254827, -0.04868231, -0.07494491, -0.23633407, -0.05665739,\n",
              "        0.18361202,  0.11457681,  0.03135185, -0.10985657,  0.11090596,\n",
              "        0.18981588, -0.20995213, -0.12914722,  0.01229226, -0.22952268,\n",
              "        0.11577261,  0.08969645, -0.08811219, -0.05798691, -0.03797081,\n",
              "       -0.23060656, -0.04943117, -0.02374801,  0.08517427,  0.09330078,\n",
              "        0.02744598, -0.10410697,  0.0731771 ,  0.06681857, -0.09258913,\n",
              "       -0.23319095,  0.01078429,  0.02160087, -0.13169514, -0.05698374,\n",
              "        0.06478496,  0.09497978,  0.08387329, -0.14921024,  0.20934215,\n",
              "       -0.14427862, -0.17134048,  0.09811428,  0.14987132,  0.00710312,\n",
              "        0.03665547, -0.1307099 , -0.00421491,  0.0464617 , -0.04239227,\n",
              "        0.13342394, -0.12734851, -0.07448941,  0.02588105,  0.08787529,\n",
              "        0.12658751,  0.17472638, -0.02794016, -0.21821551,  0.08490801,\n",
              "        0.07443111,  0.0008209 ,  0.22437972,  0.00439586, -0.08089496,\n",
              "       -0.06928878,  0.04767349, -0.05766454, -0.01192998,  0.09477514,\n",
              "       -0.0917922 ,  0.04857766,  0.06120149, -0.03158652, -0.03822763,\n",
              "       -0.06705404, -0.06350856,  0.07762483,  0.03779144, -0.09522559,\n",
              "       -0.02441514, -0.01350154,  0.06248536,  0.09071197, -0.06624139,\n",
              "        0.10452867, -0.11593225, -0.01187902, -0.06174636,  0.08746346,\n",
              "        0.04960903,  0.12941039,  0.04840158, -0.09098522,  0.13288635,\n",
              "        0.03934688,  0.01356997, -0.0591739 , -0.01283366,  0.06299302,\n",
              "        0.14341947, -0.07246962,  0.00630233,  0.18567604,  0.1366281 ,\n",
              "       -0.15788522, -0.01937053, -0.14110559, -0.06307239, -0.09883779,\n",
              "       -0.15354657, -0.29881918, -0.08936854, -0.1484884 , -0.04355636,\n",
              "        0.17198403, -0.1551659 ,  0.00610789,  0.04399873,  0.27371368,\n",
              "        0.04007953, -0.00770279, -0.11039792,  0.02200067, -0.17904843,\n",
              "       -0.06990852,  0.06462803,  0.02763678,  0.04078462,  0.10497992,\n",
              "        0.04444639, -0.07563713,  0.0432553 ,  0.00214142,  0.01435046,\n",
              "        0.18098955,  0.24067767, -0.10121831, -0.06585468, -0.11381877,\n",
              "        0.08095122, -0.06514752,  0.02209425, -0.02360271,  0.12124716,\n",
              "        0.23118336,  0.16432472,  0.22686572,  0.18994363, -0.0331153 ,\n",
              "       -0.04626717, -0.09647149, -0.22858661, -0.11802357,  0.09725767,\n",
              "        0.0136955 ,  0.06859898, -0.08377439,  0.02281375, -0.05390962,\n",
              "       -0.13413434,  0.00911721,  0.00097923, -0.1328365 , -0.08134704,\n",
              "        0.17351876, -0.12432837, -0.12397048,  0.03712271, -0.01748547,\n",
              "        0.15832004,  0.08623153, -0.11260344,  0.012964  ,  0.19538322,\n",
              "       -0.05835013,  0.02266048, -0.28449836, -0.25450423, -0.13103397,\n",
              "        0.13709553,  0.18337013, -0.06962014, -0.14397198, -0.10244028,\n",
              "       -0.13400432, -0.144835  ,  0.03359444,  0.00890025,  0.0603313 ,\n",
              "        0.00795709, -0.07042529, -0.13740058,  0.11757009, -0.16105005,\n",
              "       -0.01689468,  0.02292348,  0.19429448, -0.11023659, -0.10100284,\n",
              "        0.04241658, -0.01155513, -0.00923465,  0.11904046, -0.08901506,\n",
              "       -0.03523559,  0.03473136,  0.01022778,  0.08049151, -0.0225604 ,\n",
              "       -0.08412664,  0.02703771,  0.06917323,  0.18889259,  0.10297568,\n",
              "       -0.04980053,  0.24854368, -0.01407693, -0.07680796, -0.08513103,\n",
              "       -0.03121317,  0.08561773,  0.12848172, -0.19803376, -0.07491428,\n",
              "       -0.09408619,  0.02301427,  0.09267071, -0.04412792, -0.05310739,\n",
              "        0.00703091,  0.05402821,  0.02977579, -0.12809046,  0.02145569,\n",
              "       -0.1336065 , -0.13034163, -0.14126681, -0.08876065,  0.01492665,\n",
              "        0.04172121, -0.07503864,  0.04580224,  0.06964216,  0.20399304,\n",
              "        0.15943033, -0.304228  ,  0.02198599,  0.05928956,  0.0430139 ,\n",
              "       -0.02435706,  0.00502621,  0.09165958, -0.07258029,  0.13968223,\n",
              "        0.1533419 , -0.04175573, -0.10602017,  0.12756723,  0.10386125],\n",
              "      dtype=float32)"
            ]
          },
          "execution_count": 15,
          "metadata": {},
          "output_type": "execute_result"
        }
      ],
      "source": [
        "model.wv['unagi']"
      ]
    },
    {
      "cell_type": "code",
      "execution_count": 16,
      "metadata": {
        "colab": {
          "base_uri": "https://localhost:8080/"
        },
        "id": "3x5xlqa6ek1J",
        "outputId": "0c77d9b5-2ae9-4d65-d93d-ffff09f68f5f"
      },
      "outputs": [
        {
          "name": "stdout",
          "output_type": "stream",
          "text": [
            "0.07564849\n",
            "0.2007794\n",
            "0.3058547\n",
            "0.122257665\n",
            "0.08680678\n",
            "0.08649126\n"
          ]
        }
      ],
      "source": [
        "print(model.wv.similarity('carol', 'phoebe'))\n",
        "print(model.wv.similarity('carol', 'rachel'))\n",
        "print(model.wv.similarity('carol', 'ross'))\n",
        "print(model.wv.similarity('carol', 'joey'))\n",
        "print(model.wv.similarity('carol', 'monica'))\n",
        "print(model.wv.similarity('carol', 'chandler'))"
      ]
    }
  ],
  "metadata": {
    "colab": {
      "provenance": []
    },
    "kernelspec": {
      "display_name": "Python 3",
      "name": "python3"
    },
    "language_info": {
      "codemirror_mode": {
        "name": "ipython",
        "version": 3
      },
      "file_extension": ".py",
      "mimetype": "text/x-python",
      "name": "python",
      "nbconvert_exporter": "python",
      "pygments_lexer": "ipython3",
      "version": "3.12.4"
    }
  },
  "nbformat": 4,
  "nbformat_minor": 0
}
